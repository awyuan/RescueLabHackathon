{
 "cells": [
  {
   "cell_type": "markdown",
   "metadata": {},
   "source": [
    "## MAIN Jupyter Notebook\n",
    "Modified from: https://www.kaggle.com/code/saekiryosuke/fine-tuned-classifier-with-vgg16-and-pytorch"
   ]
  },
  {
   "cell_type": "code",
   "execution_count": 1,
   "metadata": {},
   "outputs": [],
   "source": [
    "# import packages\n",
    "import glob\n",
    "import os\n",
    "import os.path as osp\n",
    "import random\n",
    "import numpy as np\n",
    "import json\n",
    "from PIL import Image\n",
    "from tqdm import tqdm\n",
    "import matplotlib.pyplot as plt\n",
    "%matplotlib inline\n",
    "\n",
    "import torch\n",
    "import torch.nn as nn\n",
    "import torch.optim as optim\n",
    "import torch.utils.data as data\n",
    "from torchvision import models, transforms\n",
    "import pandas as pd\n"
   ]
  },
  {
   "cell_type": "code",
   "execution_count": 2,
   "metadata": {},
   "outputs": [],
   "source": [
    "class ImageTransform():\n",
    "\n",
    "    def __init__(self, resize, mean, std):\n",
    "        self.data_transform = {\n",
    "            'train': transforms.Compose([\n",
    "                # data augmentation\n",
    "                transforms.RandomResizedCrop(\n",
    "                   resize, scale=(0.5, 1.0)),\n",
    "                transforms.RandomHorizontalFlip(), \n",
    "                # convert to tensor for PyTorch\n",
    "                transforms.ToTensor(),\n",
    "                # color normalization\n",
    "                transforms.Normalize(mean, std)\n",
    "            ]),\n",
    "            'val': transforms.Compose([\n",
    "                transforms.CenterCrop(resize),\n",
    "                transforms.ToTensor(),\n",
    "                transforms.Normalize(mean, std)\n",
    "            ])\n",
    "        }\n",
    "\n",
    "    def __call__(self, img, phase='train'):\n",
    "\n",
    "        return self.data_transform[phase](img)"
   ]
  },
  {
   "cell_type": "code",
   "execution_count": 3,
   "metadata": {},
   "outputs": [],
   "source": [
    "def make_datapath_list(rootpath):\n",
    "    \n",
    "    dir_list = os.listdir(rootpath)\n",
    "\n",
    "    return dir_list\n",
    "\n",
    "\n",
    "violent_list = make_datapath_list(\"./data/kaggle/Violent\")\n",
    "notviolent_list = make_datapath_list(\"./data/kaggle/Non-Violent\")"
   ]
  },
  {
   "cell_type": "code",
   "execution_count": 4,
   "metadata": {},
   "outputs": [
    {
     "name": "stdout",
     "output_type": "stream",
     "text": [
      "8000\n",
      "1000\n",
      "1000\n"
     ]
    }
   ],
   "source": [
    "\n",
    "images_train = []\n",
    "for f in violent_list[:4000]:\n",
    "    images_train.append((Image.open(f'./data/kaggle/Violent/{f}'), 1))\n",
    "\n",
    "for f in notviolent_list[:4000]:\n",
    "    images_train.append((Image.open(f'./data/kaggle/Non-Violent/{f}'), 0))\n",
    "\n",
    "images_val = []\n",
    "for f in violent_list[4000:4500]:\n",
    "    images_val.append((Image.open(f'./data/kaggle/Violent/{f}'), 1))\n",
    "\n",
    "for f in notviolent_list[4000:4500]:\n",
    "    images_val.append((Image.open(f'./data/kaggle/Non-Violent/{f}'), 0))\n",
    "\n",
    "images_test = []\n",
    "for f in violent_list[4500:5000]:\n",
    "    images_test.append((Image.open(f'./data/kaggle/Violent/{f}'), 1))\n",
    "\n",
    "for f in notviolent_list[4500:5000]:\n",
    "    images_test.append((Image.open(f'./data/kaggle/Non-Violent/{f}'), 0))\n",
    "\n",
    "print(len(images_train))\n",
    "print(len(images_val))\n",
    "print(len(images_test))\n"
   ]
  },
  {
   "cell_type": "code",
   "execution_count": 5,
   "metadata": {},
   "outputs": [
    {
     "name": "stdout",
     "output_type": "stream",
     "text": [
      "[97.22157318 91.87636383 87.02481946] [67.82117143 66.0540779  67.12379314]\n"
     ]
    }
   ],
   "source": [
    "import random\n",
    "\n",
    "def pil_images_to_numpy(images):\n",
    "    image_data = [np.array(image[0].resize((128,128))) for image in images]\n",
    "    return image_data\n",
    "\n",
    "image_data = pil_images_to_numpy(random.sample(images_train, 1000))\n",
    "\n",
    "# Calculate the mean and standard deviation\n",
    "mean = np.mean(image_data, axis=(0, 1, 2))\n",
    "stddev = np.std(image_data, axis=(0, 1, 2))\n",
    "print(mean, stddev)"
   ]
  },
  {
   "cell_type": "code",
   "execution_count": 6,
   "metadata": {},
   "outputs": [],
   "source": [
    "# mean = (0.5, 0.5, 0.5)\n",
    "# stddev = (0.5, 0.5, 0.5)"
   ]
  },
  {
   "cell_type": "code",
   "execution_count": 7,
   "metadata": {},
   "outputs": [],
   "source": [
    "class imageDataset(data.Dataset):\n",
    "\n",
    "    def __init__(self, img_list, transform=None, phase='train'):\n",
    "        self.img_list = img_list\n",
    "        self.transform = transform\n",
    "        self.phase = phase\n",
    "\n",
    "    def __len__(self):\n",
    "        return len(self.img_list)\n",
    "\n",
    "    def __getitem__(self, index):\n",
    "\n",
    "        # load image\n",
    "        img = self.img_list[index][0]\n",
    "        label = self.img_list[index][1]\n",
    "\n",
    "        # resize\n",
    "        img = img.resize((256, 256))\n",
    "        \n",
    "        # # # grey -> color\n",
    "        # img = img.convert(\"L\").convert(\"RGB\")\n",
    "\n",
    "        # preprocess\n",
    "        img_transformed = self.transform(\n",
    "            img, self.phase)  # torch.Size([3, 224, 224])\n",
    "\n",
    "        return img_transformed, label\n",
    "\n",
    "# run\n",
    "train_dataset = imageDataset(\n",
    "    img_list=images_train, transform=ImageTransform(256, mean, stddev), phase='train')\n",
    "\n",
    "val_dataset = imageDataset(\n",
    "    img_list=images_val, transform=ImageTransform(256, mean, stddev), phase='val')\n",
    "\n"
   ]
  },
  {
   "cell_type": "code",
   "execution_count": 8,
   "metadata": {},
   "outputs": [],
   "source": [
    "batch_size = 32\n",
    "\n",
    "# making dataloader\n",
    "train_dataloader = torch.utils.data.DataLoader(\n",
    "    train_dataset, batch_size=batch_size, shuffle=True)\n",
    "\n",
    "val_dataloader = torch.utils.data.DataLoader(\n",
    "    val_dataset, batch_size=batch_size, shuffle=False)\n",
    "\n",
    "# put dataloader into dictionary type\n",
    "dataloaders_dict = {\"train\": train_dataloader, \"val\": val_dataloader}\n"
   ]
  },
  {
   "cell_type": "code",
   "execution_count": 9,
   "metadata": {},
   "outputs": [
    {
     "name": "stderr",
     "output_type": "stream",
     "text": [
      "/home/awyuan_umass_edu/.conda/envs/llm/lib/python3.9/site-packages/torchvision/models/_utils.py:208: UserWarning: The parameter 'pretrained' is deprecated since 0.13 and may be removed in the future, please use 'weights' instead.\n",
      "  warnings.warn(\n",
      "/home/awyuan_umass_edu/.conda/envs/llm/lib/python3.9/site-packages/torchvision/models/_utils.py:223: UserWarning: Arguments other than a weight enum or `None` for 'weights' are deprecated since 0.13 and may be removed in the future. The current behavior is equivalent to passing `weights=VGG16_Weights.IMAGENET1K_V1`. You can also use `weights=VGG16_Weights.DEFAULT` to get the most up-to-date weights.\n",
      "  warnings.warn(msg)\n"
     ]
    }
   ],
   "source": [
    "# Initialize the model\n",
    "use_pretrained = True\n",
    "net = models.vgg16(pretrained=use_pretrained)\n",
    "net.classifier[6] = nn.Linear(in_features=4096, out_features=2)\n",
    "# setting of loss function\n",
    "criterion = nn.CrossEntropyLoss()\n",
    "\n",
    "# setting fine tuned parameters\n",
    "params_to_update_1 = []\n",
    "params_to_update_2 = []\n",
    "params_to_update_3 = []\n",
    "\n",
    "# Not only output layer, \"features\" layers and other classifier layers are tuned.\n",
    "update_param_names_1 = [\"features\"]\n",
    "update_param_names_2 = [\"classifier.0.weight\",\n",
    "                        \"classifier.0.bias\", \"classifier.3.weight\", \"classifier.3.bias\"]\n",
    "update_param_names_3 = [\"classifier.6.weight\", \"classifier.6.bias\"]\n",
    "\n",
    "# store parameters in list\n",
    "for name, param in net.named_parameters():\n",
    "    if update_param_names_1[0] in name:\n",
    "        param.requires_grad = True\n",
    "        params_to_update_1.append(param)\n",
    "        #print(\"params_to_update_1:\", name)\n",
    "\n",
    "    elif name in update_param_names_2:\n",
    "        param.requires_grad = True\n",
    "        params_to_update_2.append(param)\n",
    "        #print(\"params_to_update_2:\", name)\n",
    "\n",
    "    elif name in update_param_names_3:\n",
    "        param.requires_grad = True\n",
    "        params_to_update_3.append(param)\n",
    "        #print(\"params_to_update_3:\", name)\n",
    "\n",
    "    else:\n",
    "        param.requires_grad = False\n",
    "        #print(\"no learning\", name)\n",
    "\n",
    "# print(\"-----------\")\n",
    "# print(params_to_update_1)\n",
    "\n",
    "# Learning Rates\n",
    "optimizer = optim.SGD([\n",
    "    {'params': params_to_update_1, 'lr': 1e-4},\n",
    "    {'params': params_to_update_2, 'lr': 5e-4},\n",
    "    {'params': params_to_update_3, 'lr': 1e-3}\n",
    "], momentum=0.9)"
   ]
  },
  {
   "cell_type": "code",
   "execution_count": 10,
   "metadata": {},
   "outputs": [],
   "source": [
    "# training function\n",
    "def train_model(net, dataloaders_dict, criterion, optimizer, num_epochs):\n",
    "    \n",
    "    accuracy_list = []\n",
    "    loss_list = []\n",
    "    \n",
    "    # Precondition : Accelerator GPU -> 'On'\n",
    "    device = torch.device(\"cuda:0\" if torch.cuda.is_available() else \"cpu\")\n",
    "    print(\"using device：\", device)\n",
    "\n",
    "    # put betwork into GPU\n",
    "    net.to(device)\n",
    "    torch.backends.cudnn.benchmark = True\n",
    "\n",
    "    # epoch loop\n",
    "    for epoch in range(num_epochs):\n",
    "        print('Epoch {}/{}'.format(epoch+1, num_epochs))\n",
    "        print('-------------')\n",
    "\n",
    "        for phase in ['train', 'val']:\n",
    "            if phase == 'train':\n",
    "                net.train()  # set network 'train' mode\n",
    "            else:\n",
    "                net.eval()   # set network 'val' mode\n",
    "\n",
    "            epoch_loss = 0.0\n",
    "            epoch_corrects = 0\n",
    "\n",
    "            # Before training\n",
    "            if (epoch == 0) and (phase == 'train'):\n",
    "                continue\n",
    "            \n",
    "                      \n",
    "            # batch loop\n",
    "            for inputs, labels in tqdm(dataloaders_dict[phase]):\n",
    "                   \n",
    "                # send data to GPU\n",
    "                inputs = inputs.to(device)\n",
    "                labels = labels.to(device)\n",
    "                \n",
    "                # initialize optimizer\n",
    "                optimizer.zero_grad()\n",
    "\n",
    "                # forward\n",
    "                with torch.set_grad_enabled(phase == 'train'):\n",
    "                    outputs = net(inputs)\n",
    "\n",
    "                    loss = criterion(outputs, labels)  #calcurate loss\n",
    "                    _, preds = torch.max(outputs, 1)  # predict\n",
    "  \n",
    "                    # back propagtion\n",
    "                    if phase == 'train':\n",
    "                        loss.backward()\n",
    "                        optimizer.step()\n",
    "\n",
    "                    # update loss summation\n",
    "                    epoch_loss += loss.item() * inputs.size(0)  \n",
    "                    # update correct prediction summation\n",
    "                    epoch_corrects += torch.sum(preds == labels.data)\n",
    "\n",
    "            # loss and accuracy for each epoch loop\n",
    "            epoch_loss = epoch_loss / len(dataloaders_dict[phase].dataset)\n",
    "            epoch_acc = epoch_corrects.double(\n",
    "            ) / len(dataloaders_dict[phase].dataset)\n",
    "            \n",
    "            print('{} Loss: {:.4f} Acc: {:.4f}'.format(\n",
    "                phase, epoch_loss, epoch_acc))\n",
    "            \n",
    "            if phase == 'val':\n",
    "                accuracy_list.append(epoch_acc.item())\n",
    "                loss_list.append(epoch_loss)\n",
    "            \n",
    "    return accuracy_list, loss_list"
   ]
  },
  {
   "cell_type": "code",
   "execution_count": 11,
   "metadata": {},
   "outputs": [
    {
     "name": "stdout",
     "output_type": "stream",
     "text": [
      "using device： cuda:0\n",
      "Epoch 1/5\n",
      "-------------\n"
     ]
    },
    {
     "name": "stderr",
     "output_type": "stream",
     "text": [
      "100%|██████████| 32/32 [00:24<00:00,  1.32it/s]\n"
     ]
    },
    {
     "name": "stdout",
     "output_type": "stream",
     "text": [
      "val Loss: 0.7000 Acc: 0.5000\n",
      "Epoch 2/5\n",
      "-------------\n"
     ]
    },
    {
     "name": "stderr",
     "output_type": "stream",
     "text": [
      "100%|██████████| 250/250 [02:07<00:00,  1.96it/s]\n"
     ]
    },
    {
     "name": "stdout",
     "output_type": "stream",
     "text": [
      "train Loss: 0.6980 Acc: 0.5130\n"
     ]
    },
    {
     "name": "stderr",
     "output_type": "stream",
     "text": [
      "100%|██████████| 32/32 [00:09<00:00,  3.43it/s]\n"
     ]
    },
    {
     "name": "stdout",
     "output_type": "stream",
     "text": [
      "val Loss: 0.6971 Acc: 0.5000\n",
      "Epoch 3/5\n",
      "-------------\n"
     ]
    },
    {
     "name": "stderr",
     "output_type": "stream",
     "text": [
      "100%|██████████| 250/250 [01:43<00:00,  2.41it/s]\n"
     ]
    },
    {
     "name": "stdout",
     "output_type": "stream",
     "text": [
      "train Loss: 0.6977 Acc: 0.4994\n"
     ]
    },
    {
     "name": "stderr",
     "output_type": "stream",
     "text": [
      "100%|██████████| 32/32 [00:09<00:00,  3.50it/s]\n"
     ]
    },
    {
     "name": "stdout",
     "output_type": "stream",
     "text": [
      "val Loss: 0.6952 Acc: 0.5000\n",
      "Epoch 4/5\n",
      "-------------\n"
     ]
    },
    {
     "name": "stderr",
     "output_type": "stream",
     "text": [
      "100%|██████████| 250/250 [01:44<00:00,  2.40it/s]\n"
     ]
    },
    {
     "name": "stdout",
     "output_type": "stream",
     "text": [
      "train Loss: 0.6964 Acc: 0.4965\n"
     ]
    },
    {
     "name": "stderr",
     "output_type": "stream",
     "text": [
      "100%|██████████| 32/32 [00:09<00:00,  3.50it/s]\n"
     ]
    },
    {
     "name": "stdout",
     "output_type": "stream",
     "text": [
      "val Loss: 0.6905 Acc: 0.6800\n",
      "Epoch 5/5\n",
      "-------------\n"
     ]
    },
    {
     "name": "stderr",
     "output_type": "stream",
     "text": [
      "100%|██████████| 250/250 [01:44<00:00,  2.39it/s]\n"
     ]
    },
    {
     "name": "stdout",
     "output_type": "stream",
     "text": [
      "train Loss: 0.6948 Acc: 0.5044\n"
     ]
    },
    {
     "name": "stderr",
     "output_type": "stream",
     "text": [
      "100%|██████████| 32/32 [00:09<00:00,  3.52it/s]"
     ]
    },
    {
     "name": "stdout",
     "output_type": "stream",
     "text": [
      "val Loss: 0.6883 Acc: 0.5020\n"
     ]
    },
    {
     "name": "stderr",
     "output_type": "stream",
     "text": [
      "\n"
     ]
    }
   ],
   "source": [
    "num_epochs=5\n",
    "accuracy_list, loss_list = train_model(net, dataloaders_dict, criterion, optimizer, num_epochs=num_epochs)"
   ]
  },
  {
   "cell_type": "code",
   "execution_count": 13,
   "metadata": {},
   "outputs": [],
   "source": [
    "torch.save(net.state_dict(), './model-weights/vgg16_fine_tuning-5e.pt')"
   ]
  },
  {
   "cell_type": "code",
   "execution_count": null,
   "metadata": {},
   "outputs": [],
   "source": []
  }
 ],
 "metadata": {
  "kernelspec": {
   "display_name": "Python [conda env:.conda-llm]",
   "language": "python",
   "name": "conda-env-.conda-llm-py"
  },
  "language_info": {
   "codemirror_mode": {
    "name": "ipython",
    "version": 3
   },
   "file_extension": ".py",
   "mimetype": "text/x-python",
   "name": "python",
   "nbconvert_exporter": "python",
   "pygments_lexer": "ipython3",
   "version": "3.9.18"
  }
 },
 "nbformat": 4,
 "nbformat_minor": 4
}
